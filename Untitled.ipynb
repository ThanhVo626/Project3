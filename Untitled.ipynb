{
 "cells": [
  {
   "cell_type": "code",
   "execution_count": 2,
   "id": "09c2c87c",
   "metadata": {},
   "outputs": [],
   "source": [
    "import pandas as pd\n",
    "import numpy as np\n",
    "import matplotlib.pyplot as plt\n",
    "import seaborn as sns\n"
   ]
  },
  {
   "cell_type": "code",
   "execution_count": 5,
   "id": "e0e9b903",
   "metadata": {},
   "outputs": [],
   "source": [
    "df_zip_code = pd.read_csv('zip code.csv')\n",
    "df_electric_vehicles = pd.read_csv('electric vehicles.csv')"
   ]
  },
  {
   "cell_type": "code",
   "execution_count": 7,
   "id": "f5e8ed5d",
   "metadata": {},
   "outputs": [
    {
     "data": {
      "text/plain": [
       "Data Year                       0\n",
       "County                          0\n",
       "Dashboard Fuel Type Group       0\n",
       "Fuel Type                       0\n",
       "Manufacturer                 4322\n",
       "Model                        4322\n",
       "Number of Vehicles              0\n",
       "dtype: int64"
      ]
     },
     "execution_count": 7,
     "metadata": {},
     "output_type": "execute_result"
    }
   ],
   "source": [
    "df_electric_vehicles.isnull().sum()\n",
    "\n"
   ]
  },
  {
   "cell_type": "code",
   "execution_count": 8,
   "id": "84edc781",
   "metadata": {},
   "outputs": [],
   "source": [
    "df_electric_vehicles.dropna(inplace=True)\n"
   ]
  },
  {
   "cell_type": "code",
   "execution_count": 9,
   "id": "65e5c22d",
   "metadata": {},
   "outputs": [
    {
     "data": {
      "text/plain": [
       "Data Year                    0\n",
       "County                       0\n",
       "Dashboard Fuel Type Group    0\n",
       "Fuel Type                    0\n",
       "Manufacturer                 0\n",
       "Model                        0\n",
       "Number of Vehicles           0\n",
       "dtype: int64"
      ]
     },
     "execution_count": 9,
     "metadata": {},
     "output_type": "execute_result"
    }
   ],
   "source": [
    "df_electric_vehicles.isnull().sum()\n"
   ]
  },
  {
   "cell_type": "code",
   "execution_count": 10,
   "id": "1aa63fa0",
   "metadata": {},
   "outputs": [
    {
     "name": "stdout",
     "output_type": "stream",
     "text": [
      "cleaned_file1.csv and cleaned_file2.csv saved successfully.\n"
     ]
    }
   ],
   "source": [
    "\n",
    "# Assuming you have already cleaned your DataFrames\n",
    "cleaned_df1 = df_zip_code\n",
    "cleaned_df2 = df_electric_vehicles\n",
    "\n",
    "# Specify the file names for the saved CSV files\n",
    "file_name1 = 'cleaned_file1.csv'\n",
    "file_name2 = 'cleaned_file2.csv'\n",
    "\n",
    "# Save the DataFrames as CSV files in the same folder\n",
    "cleaned_df1.to_csv(file_name1, index=False)\n",
    "cleaned_df2.to_csv(file_name2, index=False)\n",
    "\n",
    "# Optional: Print a message to confirm the files were saved\n",
    "print(f\"{file_name1} and {file_name2} saved successfully.\")\n"
   ]
  },
  {
   "cell_type": "code",
   "execution_count": null,
   "id": "15494370",
   "metadata": {},
   "outputs": [],
   "source": []
  }
 ],
 "metadata": {
  "kernelspec": {
   "display_name": "Python 3 (ipykernel)",
   "language": "python",
   "name": "python3"
  },
  "language_info": {
   "codemirror_mode": {
    "name": "ipython",
    "version": 3
   },
   "file_extension": ".py",
   "mimetype": "text/x-python",
   "name": "python",
   "nbconvert_exporter": "python",
   "pygments_lexer": "ipython3",
   "version": "3.10.9"
  }
 },
 "nbformat": 4,
 "nbformat_minor": 5
}
